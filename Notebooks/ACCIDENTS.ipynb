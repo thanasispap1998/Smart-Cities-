{
 "cells": [
  {
   "cell_type": "markdown",
   "metadata": {},
   "source": [
    "# ACCIDENTS IN FRANCE "
   ]
  },
  {
   "cell_type": "code",
   "execution_count": 2,
   "metadata": {
    "ExecuteTime": {
     "end_time": "2020-01-22T08:35:24.460283Z",
     "start_time": "2020-01-22T08:34:57.859939Z"
    }
   },
   "outputs": [],
   "source": [
    "import pandas as pd\n",
    "import matplotlib.pyplot as plt\n",
    "import warnings\n",
    "warnings.filterwarnings('ignore')\n",
    "#warnings.filterwarnings('default')"
   ]
  },
  {
   "cell_type": "markdown",
   "metadata": {},
   "source": [
    "<h2> OUR DATA SET "
   ]
  },
  {
   "cell_type": "code",
   "execution_count": 3,
   "metadata": {
    "ExecuteTime": {
     "end_time": "2020-01-22T08:35:34.493278Z",
     "start_time": "2020-01-22T08:35:24.499182Z"
    }
   },
   "outputs": [],
   "source": [
    "#loading the data\n",
    "characteristics = pd.read_csv(\"caracteristics.csv\")\n",
    "holidays = pd.read_csv(\"holidays.csv\")\n",
    "places = pd.read_csv(\"places.csv\")\n",
    "users = pd.read_csv(\"users.csv\")\n",
    "vehicles = pd.read_csv(\"vehicles.csv\")"
   ]
  },
  {
   "cell_type": "code",
   "execution_count": 4,
   "metadata": {
    "ExecuteTime": {
     "end_time": "2020-01-22T08:35:37.027618Z",
     "start_time": "2020-01-22T08:35:35.233930Z"
    }
   },
   "outputs": [],
   "source": [
    "characteristics.dropna()\n",
    "holidays.dropna()\n",
    "places.dropna()\n",
    "users.dropna()\n",
    "vehicles.dropna();"
   ]
  },
  {
   "cell_type": "markdown",
   "metadata": {},
   "source": [
    "<h2> PREPARE THE DATA"
   ]
  },
  {
   "cell_type": "markdown",
   "metadata": {},
   "source": [
    "<h3> characteristics"
   ]
  },
  {
   "cell_type": "markdown",
   "metadata": {},
   "source": [
    "| attribute | definition |\n",
    "| --- | --- |\n",
    "| day | Day of the accident|\n",
    "| month | Month of the accident |\n",
    "| an | Year of the accident|\n",
    "| hour | Time of the accident in hour and minutes (hhmm) |\n",
    "| lum | lighting conditions in which the accident occurred |\n",
    "|dep | Departmeent : INSEE Code (National Institute of Statistics and Economic Studies) of the departmeent followed by a 0 (201 Corse-du-Sud - 202 Haute-Corse)|\n",
    "|com | Municipality: The commune number is a code given by INSEE. The code has 3 numbers set to the right|\n",
    "|int | Type of Intersection |\n",
    "|atm | Atmospheric conditions|\n",
    "|col | Type of collision|\n",
    "|adr | Postal address: variable filled in for accidents occurring in built-up areas|\n",
    "|gps | GPS coding: 1 originator character|\n",
    "\n",
    "\n",
    "|**lum** | **Localisation** |**int** | **atm** |**col**|**gps**|**Geographic coordinates in decimal degree:**|\n",
    "| --- | --- | --- | --- | --- | --- | --- |\n",
    "|1  Full day |1  Out of agglomeration|1  Out of intersection|1 Normal|1 Two vehicles - frontal| 0  Métropole|1  Latitude|\n",
    "|2  Twilight or dawn |2  In built-up areas|2  Intersection in X|2  Light rain|2  Two vehicles - from the rear|1  Antilles (Martinique or Guadeloupe)|2 Longitude|\n",
    "|3  Night without public lighting | |3  Intersection in T|3  Heavy rain|3 Two vehicles - by the side|2  Guyane| |\n",
    "|4  Night with public lighting not lit| |4  Intersection in Y|4  Snow - hail|4  Three vehicles and more - in chain|3  Réunion| |\n",
    "|5  Night with public lighting on | |5 Intersection with more than 4 branches|5  Fog - smoke|5  Three or more vehicles - multiple collisions|4  Mayotte| |\n",
    "| | |6  Giratory|6  Strong wind - storm| 6  Other collision| | |\n",
    "| | |7  Place|7  Dazzling weather|7  Without collision| | |\n",
    "| | |8  Level crossing|8 Cloudy weather| | | | |\n",
    "| | |9  Other intersection|9  Other| | | | |\n"
   ]
  },
  {
   "cell_type": "code",
   "execution_count": 185,
   "metadata": {
    "ExecuteTime": {
     "end_time": "2020-01-21T13:33:31.979729Z",
     "start_time": "2020-01-21T13:33:26.788949Z"
    }
   },
   "outputs": [],
   "source": [
    "characteristics = characteristics.replace(to_replace = {'nan' : 'NULL'})\n",
    "characteristics = characteristics.replace(to_replace = {'M' : 0, 'A' : 1, 'G': 2, 'R':3, 'Y':4, 'lat': 1, 'long':2})\n",
    "characteristics.dropna();"
   ]
  },
  {
   "cell_type": "code",
   "execution_count": 186,
   "metadata": {
    "ExecuteTime": {
     "end_time": "2020-01-21T13:33:32.597415Z",
     "start_time": "2020-01-21T13:33:32.117001Z"
    }
   },
   "outputs": [],
   "source": [
    "characteristics['atm'] = [x if x <=8 else 15 for x in characteristics['atm']]\n",
    "characteristics = characteristics[characteristics['atm'] <= 8]\n",
    "#characteristics_reg_un['y'] = [1 if x >= 0.5 else 0 for x in characteristics_reg_un['suma']]\n",
    "characteristics = characteristics[characteristics['com'] <= max(characteristics['com'] )]"
   ]
  },
  {
   "cell_type": "markdown",
   "metadata": {},
   "source": [
    "<h3> holidays"
   ]
  },
  {
   "cell_type": "code",
   "execution_count": 4,
   "metadata": {
    "ExecuteTime": {
     "end_time": "2020-01-21T20:40:31.756105Z",
     "start_time": "2020-01-21T20:40:31.728182Z"
    }
   },
   "outputs": [],
   "source": [
    "holidays['ds'] = holidays['ds'].str.replace('-', '')"
   ]
  },
  {
   "cell_type": "markdown",
   "metadata": {},
   "source": [
    "<h3>  places </h3>\n",
    "\n",
    "| attribute | definition |\n",
    "| --- | --- |\n",
    "|Num_Acc | Accident ID|\n",
    "|catr | Category of road|\n",
    "|voie | Road Number|\n",
    "|V1 | Numeric index of the route number (example: 2 bis, 3 ter etc.)|\n",
    "|V2 | Letter alphanumeric index of the road|\n",
    "|circ | Traffic regime|\n",
    "|nbv | Total number of traffic lanes|\n",
    "|vosp | Indicates the existence of a reserved lane, regardless of whether or not the accident occurs on that lane.|\n",
    "|Prof| Longitudinal profile describes the gradient of the road at the accident site|\n",
    "|pr| Home PR number (upstream terminal number)|\n",
    "|pr1| Distance in meters to the PR (relative to the upstream terminal)|\n",
    "|plan| Drawing in plan|\n",
    "|lartpc| Central solid land width (TPC) if there is|\n",
    "|larrout| Width of the roadway assigned to vehicle traffic are not included the emergency stop strips, CPRs and parking spaces|\n",
    "|surf| surface condition|\n",
    "|infra| Development - Infrastructure|\n",
    "|situ| Situation of the accident|\n",
    "|env1| school point: near a school\n",
    "\n",
    "|**catr** |   **circ**|**vosp**|**Prof**|**plan**|**surf**|**infra**|**situ**\n",
    "| --- | --- | ---| --- | --- | --- | --- | --- |  \n",
    "| 1 - Highway |   1 - One way|1 - Bike path|1 - Dish|1 - Straight part|1 - normal|1 - Underground - tunnel|1 - On the road|\n",
    "|2 - National Road   |   2 - Bidirectional|2 - Cycle Bank|2 - Slope|2 - Curved on the left|2 - wet|2 - Bridge - autopont|2 - On emergency stop band|\n",
    "|3 - Departmental Road|   3 - Separated carriageways|3 - Reserved channel|3 - Hilltop|3 - Curved right|3 - puddles|3 - Exchanger or connection brace|3 - On the verge|\n",
    "|4 - Communal Way |   4 - With variable assignment channels| |4- Hill bottom|4 - In \"S\"|4 - flooded|4 - Railway|4 - On the sidewalk|\n",
    "|5 - Off public network  | | | | |5 - snow|5 - Carrefour arranged|5 - On bike path|\n",
    "|6 - Parking lot open to public traffic | | | | |6 - mud|6 - Pedestrian area| |\n",
    "|6 - Parking lot open to public traffic | | | | |7 - icy|7 - Toll zone||\n",
    "|9 - other| | | | |8 - fat - oil| | |\n",
    "|| | | | |9 - other| | |"
   ]
  },
  {
   "cell_type": "code",
   "execution_count": 5,
   "metadata": {
    "ExecuteTime": {
     "end_time": "2020-01-21T20:40:33.647399Z",
     "start_time": "2020-01-21T20:40:31.817941Z"
    }
   },
   "outputs": [],
   "source": [
    "places = places.replace(to_replace = {'nan' : 'NULL'})\n",
    "places.dropna();"
   ]
  },
  {
   "cell_type": "markdown",
   "metadata": {},
   "source": [
    "<h3> USERS </h3>\n",
    "\n",
    "| attribute | definition |\n",
    "| --- | --- |\n",
    "|Acc_number | Accident identifier|\n",
    "|Num_Veh| Identification of the vehicle taken back for each user occupying this vehicle (including pedestrians who are attached to the vehicles that hit them)|\n",
    "|place| Allows to locate the place occupied in the vehicle by the user at the time of the accident|\n",
    "|catu| User category|\n",
    "|grav| Severity of the accident: The injured users are classified into three categories of victims plus the uninjured|\n",
    "|sexe| Sex of the user|\n",
    "|secu| on 2 characters: the first concerns the existence of a safety equipment and the second is the use of Safety Equipment|\n",
    "|locp| Location of the pedestrian|\n",
    "|etatp| This variable is used to specify whether the injured pedestrian was alone or not|\n",
    "\n",
    "\n",
    "|**catu**|**grav**| **sex** | **secu1** | **sec2**| **locp**|**Moving**| **etatp**\n",
    "| --- | --- | --- | --- | --- | --- | --- | --- |\n",
    "|1 - Driver|1 - Unscathed|1 - Male|1 - Belt|1 - Yes|1 - A + 50 m from the pedestrian crossing(On pavement)|0 - not specified or not applicable|1 - Only|\n",
    "|2 - Passenger|2 - Killed|2 - Female|2 - Helmet|2 - No|2 - A - 50 m from the pedestrian crossing(On pavement)|1 - Meaning bumping vehicle|2 - Accompanied|\n",
    "|3 - Pedestrian|3 - Hospitalized wounded| |3 - Children's device |3 - Not determinable|3 - Without light signaling(On pedestrian crossing)|2 - Opposite direction of the vehicle Various|3 - In a group|\n",
    "|4 - Pedestrian in rollerblade or scooter|4 - Light injury| |4 - Reflective equipment| |4 - With light signaling(On pedestrian crossing)|3 - Crossing| |\n",
    "| | | |5 - Promenade - leisure| |5 - On the sidewalk(Various)|4 - Masked| |\n",
    "| | | |9 - Other|  |6 - On the verge(Various)|5 - Playing - running|\n",
    "| | | | |  |7 - On refuge or BAU(Various)|6 - With animal|\n",
    "| | | | |  |8 - On against aisle(Various)|9 - Other|\n"
   ]
  },
  {
   "cell_type": "markdown",
   "metadata": {},
   "source": [
    "<h3>VEHICLES</h3>\n",
    "\n",
    "| attribute | definition |\n",
    "| --- | --- |\n",
    "|Num_Acc| Accident ID|\n",
    "|Num_Veh| Identification of the vehicle taken back for each user occupying this vehicle (including pedestrians who are attached to vehicles that hit them) - alphanumeric code|\n",
    "|GP | Flow direction |\n",
    "|CATV | Category of vehicle|\n",
    "\n",
    "|**GP**|**CATV**|\n",
    "| --- | --- |\n",
    "|1 - PK or PR or increasing postal address number|01 - Bicycle|\n",
    "|2 - PK or PR or descending postal address number|02 - Moped <50cm3|\n",
    "| |03 - Cart (Quadricycle with bodied motor) (formerly \"cart or motor tricycle\")\n",
    "| |04 - Not used since 2006 (registered scooter)\n",
    "| |05 - Not used since 2006 (motorcycle)\n",
    "| |06 - Not used since 2006 (side-car)\n",
    "| |07 - VL only\n",
    "| |08 - Not used category (VL + caravan)\n",
    "| |09 - Not used category (VL + trailer)\n",
    "| |10 - VU only 1,5T <= GVW <= 3,5T with or without trailer (formerly VU only 1,5T <= GVW <= 3,5T)\n",
    "| |11 - Most used since 2006 (VU (10) + caravan)\n",
    "| |12 - Most used since 2006 (VU (10) + trailer)\n",
    "| |13 - PL only 3,5T\n"
   ]
  },
  {
   "cell_type": "markdown",
   "metadata": {},
   "source": [
    "<h2> DIAGRAMS"
   ]
  },
  {
   "cell_type": "code",
   "execution_count": 6,
   "metadata": {
    "ExecuteTime": {
     "end_time": "2020-01-21T20:40:37.512247Z",
     "start_time": "2020-01-21T20:40:33.742148Z"
    }
   },
   "outputs": [
    {
     "name": "stdout",
     "output_type": "stream",
     "text": [
      "\t\t\t------NUM OF ACCIDENTS DEPENDING ON -CHARACTIRSTIC- ATTRIBUTES------\n",
      "\n"
     ]
    },
    {
     "data": {
      "image/png": "[encoded data removed]",
      "text/plain": [
       "<Figure size 1440x1080 with 9 Axes>"
      ]
     },
     "metadata": {
      "needs_background": "light"
     },
     "output_type": "display_data"
    }
   ],
   "source": [
    "print(\"\\t\\t\\t------NUM OF ACCIDENTS DEPENDING ON -CHARACTIRSTIC- ATTRIBUTES------\\n\")\n",
    "characteristics.hist(column = ['month', 'day', 'hour', 'atm', 'int', 'col', 'lum', 'com'], figsize=(20, 15));"
   ]
  },
  {
   "cell_type": "code",
   "execution_count": 7,
   "metadata": {
    "ExecuteTime": {
     "end_time": "2020-01-21T20:40:39.789904Z",
     "start_time": "2020-01-21T20:40:37.587017Z"
    }
   },
   "outputs": [
    {
     "name": "stdout",
     "output_type": "stream",
     "text": [
      "\t\t\t------NUM OF ACCIDENTS DEPENDING ON -PLACES- ATTRIBUTES------\n",
      "\n"
     ]
    },
    {
     "data": {
      "image/png": "[encoded data removed]",
      "text/plain": [
       "<Figure size 1440x1080 with 9 Axes>"
      ]
     },
     "metadata": {
      "needs_background": "light"
     },
     "output_type": "display_data"
    }
   ],
   "source": [
    "print(\"\\t\\t\\t------NUM OF ACCIDENTS DEPENDING ON -PLACES- ATTRIBUTES------\\n\")\n",
    "places.hist(column = ['catr', 'circ', 'vosp', 'prof', 'plan', 'surf', 'infra', 'situ', 'env1'], figsize=(20, 15));"
   ]
  },
  {
   "cell_type": "code",
   "execution_count": 8,
   "metadata": {
    "ExecuteTime": {
     "end_time": "2020-01-21T20:40:40.908001Z",
     "start_time": "2020-01-21T20:40:39.871685Z"
    }
   },
   "outputs": [
    {
     "name": "stdout",
     "output_type": "stream",
     "text": [
      "\t\t\t------NUM OF ACCIDENTS DEPENDING ON -USERS- ATTRIBUTES------\n",
      "\n"
     ]
    },
    {
     "data": {
      "image/png": "[encoded data removed]",
      "text/plain": [
       "<Figure size 1080x720 with 4 Axes>"
      ]
     },
     "metadata": {
      "needs_background": "light"
     },
     "output_type": "display_data"
    }
   ],
   "source": [
    "print(\"\\t\\t\\t------NUM OF ACCIDENTS DEPENDING ON -USERS- ATTRIBUTES------\\n\")\n",
    "users.hist(column = ['catu', 'sexe', 'secu', 'etatp'], figsize=(15, 10));"
   ]
  },
  {
   "cell_type": "code",
   "execution_count": 9,
   "metadata": {
    "ExecuteTime": {
     "end_time": "2020-01-21T20:40:41.354201Z",
     "start_time": "2020-01-21T20:40:40.986671Z"
    }
   },
   "outputs": [
    {
     "name": "stdout",
     "output_type": "stream",
     "text": [
      "\t\t\t------NUM OF ACCIDENTS DEPENDING ON -VEHICLES- ATTRIBUTES------\n",
      "\n"
     ]
    },
    {
     "data": {
      "image/png": "[encoded data removed]",
      "text/plain": [
       "<Figure size 360x216 with 1 Axes>"
      ]
     },
     "metadata": {
      "needs_background": "light"
     },
     "output_type": "display_data"
    }
   ],
   "source": [
    "print(\"\\t\\t\\t------NUM OF ACCIDENTS DEPENDING ON -VEHICLES- ATTRIBUTES------\\n\")\n",
    "vehicles.hist(column = ['catv'], figsize=(5, 3));"
   ]
  },
  {
   "cell_type": "markdown",
   "metadata": {},
   "source": [
    "<h3> Predictions"
   ]
  },
  {
   "cell_type": "markdown",
   "metadata": {},
   "source": [
    "Predict what is the possibility of an accident to occure knowing: the month(month), day(day), lighting conditions(lum), Atmospheric conditions(atm), Municipality(cum)"
   ]
  },
  {
   "cell_type": "code",
   "execution_count": 27,
   "metadata": {
    "ExecuteTime": {
     "end_time": "2020-01-21T20:51:37.154236Z",
     "start_time": "2020-01-21T20:51:36.851047Z"
    }
   },
   "outputs": [],
   "source": [
    "characteristics_reg = characteristics[['month', 'day', 'hour', 'atm', 'lum','com']]\n",
    "characteristics_reg['suma'] = [1]*(characteristics_reg.shape[0])"
   ]
  },
  {
   "cell_type": "code",
   "execution_count": 28,
   "metadata": {
    "ExecuteTime": {
     "end_time": "2020-01-21T20:51:39.315985Z",
     "start_time": "2020-01-21T20:51:38.486974Z"
    }
   },
   "outputs": [
    {
     "data": {
      "text/html": [
       "<div>\n",
       "<style scoped>\n",
       "    .dataframe tbody tr th:only-of-type {\n",
       "        vertical-align: middle;\n",
       "    }\n",
       "\n",
       "    .dataframe tbody tr th {\n",
       "        vertical-align: top;\n",
       "    }\n",
       "\n",
       "    .dataframe thead th {\n",
       "        text-align: right;\n",
       "    }\n",
       "</style>\n",
       "<table border=\"1\" class=\"dataframe\">\n",
       "  <thead>\n",
       "    <tr style=\"text-align: right;\">\n",
       "      <th></th>\n",
       "      <th>timi</th>\n",
       "      <th>row</th>\n",
       "    </tr>\n",
       "  </thead>\n",
       "  <tbody>\n",
       "    <tr>\n",
       "      <td>8</td>\n",
       "      <td>True</td>\n",
       "      <td>8</td>\n",
       "    </tr>\n",
       "    <tr>\n",
       "      <td>85</td>\n",
       "      <td>True</td>\n",
       "      <td>85</td>\n",
       "    </tr>\n",
       "    <tr>\n",
       "      <td>187</td>\n",
       "      <td>True</td>\n",
       "      <td>187</td>\n",
       "    </tr>\n",
       "    <tr>\n",
       "      <td>277</td>\n",
       "      <td>True</td>\n",
       "      <td>277</td>\n",
       "    </tr>\n",
       "    <tr>\n",
       "      <td>281</td>\n",
       "      <td>True</td>\n",
       "      <td>281</td>\n",
       "    </tr>\n",
       "    <tr>\n",
       "      <td>...</td>\n",
       "      <td>...</td>\n",
       "      <td>...</td>\n",
       "    </tr>\n",
       "    <tr>\n",
       "      <td>831425</td>\n",
       "      <td>True</td>\n",
       "      <td>831425</td>\n",
       "    </tr>\n",
       "    <tr>\n",
       "      <td>833097</td>\n",
       "      <td>True</td>\n",
       "      <td>833097</td>\n",
       "    </tr>\n",
       "    <tr>\n",
       "      <td>834596</td>\n",
       "      <td>True</td>\n",
       "      <td>834596</td>\n",
       "    </tr>\n",
       "    <tr>\n",
       "      <td>835386</td>\n",
       "      <td>True</td>\n",
       "      <td>835386</td>\n",
       "    </tr>\n",
       "    <tr>\n",
       "      <td>835509</td>\n",
       "      <td>True</td>\n",
       "      <td>835509</td>\n",
       "    </tr>\n",
       "  </tbody>\n",
       "</table>\n",
       "<p>16587 rows × 2 columns</p>\n",
       "</div>"
      ],
      "text/plain": [
       "        timi     row\n",
       "8       True       8\n",
       "85      True      85\n",
       "187     True     187\n",
       "277     True     277\n",
       "281     True     281\n",
       "...      ...     ...\n",
       "831425  True  831425\n",
       "833097  True  833097\n",
       "834596  True  834596\n",
       "835386  True  835386\n",
       "835509  True  835509\n",
       "\n",
       "[16587 rows x 2 columns]"
      ]
     },
     "execution_count": 28,
     "metadata": {},
     "output_type": "execute_result"
    }
   ],
   "source": [
    "#dup = (columns = ['timi']\n",
    "dup = pd.DataFrame(characteristics_reg.duplicated(subset=None, keep='last'), columns=['timi'])\n",
    "dup['row'] = list(range(0, dup.shape[0], 1))\n",
    "dup = dup[dup['timi'] == True]\n",
    "dup"
   ]
  },
  {
   "cell_type": "code",
   "execution_count": 29,
   "metadata": {
    "ExecuteTime": {
     "end_time": "2020-01-21T20:55:32.725815Z",
     "start_time": "2020-01-21T20:51:41.518450Z"
    }
   },
   "outputs": [],
   "source": [
    "for i in range(0, dup.shape[0]):\n",
    "    l = dup.iloc[i].loc['row']\n",
    "    char = characteristics_reg[characteristics_reg['month'] == characteristics_reg.iloc[l].loc['month']]\n",
    "    char = char[char['com'] == characteristics_reg.iloc[l].loc['com']]\n",
    "    char = char[char['day'] == characteristics_reg.iloc[l].loc['day']]\n",
    "    char = char[char['hour'] == characteristics_reg.iloc[l].loc['hour']]\n",
    "    char = char[char['atm'] == characteristics_reg.iloc[l].loc['atm']]\n",
    "    char = char[char['lum'] == characteristics_reg.iloc[l].loc['lum']]\n",
    "    characteristics_reg.at[l,'suma'] = char.shape[0]"
   ]
  },
  {
   "cell_type": "code",
   "execution_count": 41,
   "metadata": {
    "ExecuteTime": {
     "end_time": "2020-01-21T20:58:18.215503Z",
     "start_time": "2020-01-21T20:58:17.236408Z"
    }
   },
   "outputs": [],
   "source": [
    "characteristics_reg_un = characteristics_reg.drop_duplicates(characteristics_reg.columns[:-1], keep='first')\n",
    "mo = characteristics_reg_un['suma'].mean()\n",
    "characteristics_reg_un.dropna();\n",
    "characteristics_reg_un['atm'] = [x if x <=8 else 15 for x in characteristics_reg_un['atm']]\n",
    "characteristics_reg_un = characteristics_reg_un[characteristics_reg_un['atm'] <= 8]\n",
    "characteristics_reg_un = characteristics_reg_un[characteristics_reg_un['com'] <= max(characteristics_reg_un['com'] )]"
   ]
  },
  {
   "cell_type": "markdown",
   "metadata": {},
   "source": [
    "I will consider the values which 'suma' < 0.5 as '0' (no big possibility for an accident to occure) and the others as '1'"
   ]
  },
  {
   "cell_type": "code",
   "execution_count": 42,
   "metadata": {
    "ExecuteTime": {
     "end_time": "2020-01-21T20:58:20.596223Z",
     "start_time": "2020-01-21T20:58:20.109500Z"
    }
   },
   "outputs": [
    {
     "data": {
      "text/html": [
       "<div>\n",
       "<style scoped>\n",
       "    .dataframe tbody tr th:only-of-type {\n",
       "        vertical-align: middle;\n",
       "    }\n",
       "\n",
       "    .dataframe tbody tr th {\n",
       "        vertical-align: top;\n",
       "    }\n",
       "\n",
       "    .dataframe thead th {\n",
       "        text-align: right;\n",
       "    }\n",
       "</style>\n",
       "<table border=\"1\" class=\"dataframe\">\n",
       "  <thead>\n",
       "    <tr style=\"text-align: right;\">\n",
       "      <th></th>\n",
       "      <th>month</th>\n",
       "      <th>day</th>\n",
       "      <th>hour</th>\n",
       "      <th>atm</th>\n",
       "      <th>lum</th>\n",
       "      <th>com</th>\n",
       "      <th>suma</th>\n",
       "      <th>y</th>\n",
       "    </tr>\n",
       "  </thead>\n",
       "  <tbody>\n",
       "    <tr>\n",
       "      <td>0</td>\n",
       "      <td>2</td>\n",
       "      <td>1</td>\n",
       "      <td>1445</td>\n",
       "      <td>8.0</td>\n",
       "      <td>1</td>\n",
       "      <td>5.0</td>\n",
       "      <td>1</td>\n",
       "      <td>0</td>\n",
       "    </tr>\n",
       "    <tr>\n",
       "      <td>1</td>\n",
       "      <td>3</td>\n",
       "      <td>16</td>\n",
       "      <td>1800</td>\n",
       "      <td>1.0</td>\n",
       "      <td>1</td>\n",
       "      <td>5.0</td>\n",
       "      <td>1</td>\n",
       "      <td>0</td>\n",
       "    </tr>\n",
       "    <tr>\n",
       "      <td>2</td>\n",
       "      <td>7</td>\n",
       "      <td>13</td>\n",
       "      <td>1900</td>\n",
       "      <td>1.0</td>\n",
       "      <td>1</td>\n",
       "      <td>11.0</td>\n",
       "      <td>1</td>\n",
       "      <td>0</td>\n",
       "    </tr>\n",
       "    <tr>\n",
       "      <td>3</td>\n",
       "      <td>8</td>\n",
       "      <td>15</td>\n",
       "      <td>1930</td>\n",
       "      <td>7.0</td>\n",
       "      <td>2</td>\n",
       "      <td>477.0</td>\n",
       "      <td>1</td>\n",
       "      <td>0</td>\n",
       "    </tr>\n",
       "    <tr>\n",
       "      <td>4</td>\n",
       "      <td>12</td>\n",
       "      <td>23</td>\n",
       "      <td>1100</td>\n",
       "      <td>1.0</td>\n",
       "      <td>1</td>\n",
       "      <td>11.0</td>\n",
       "      <td>1</td>\n",
       "      <td>0</td>\n",
       "    </tr>\n",
       "    <tr>\n",
       "      <td>...</td>\n",
       "      <td>...</td>\n",
       "      <td>...</td>\n",
       "      <td>...</td>\n",
       "      <td>...</td>\n",
       "      <td>...</td>\n",
       "      <td>...</td>\n",
       "      <td>...</td>\n",
       "      <td>...</td>\n",
       "    </tr>\n",
       "    <tr>\n",
       "      <td>839980</td>\n",
       "      <td>12</td>\n",
       "      <td>21</td>\n",
       "      <td>2035</td>\n",
       "      <td>1.0</td>\n",
       "      <td>5</td>\n",
       "      <td>416.0</td>\n",
       "      <td>1</td>\n",
       "      <td>0</td>\n",
       "    </tr>\n",
       "    <tr>\n",
       "      <td>839981</td>\n",
       "      <td>12</td>\n",
       "      <td>23</td>\n",
       "      <td>1010</td>\n",
       "      <td>1.0</td>\n",
       "      <td>1</td>\n",
       "      <td>416.0</td>\n",
       "      <td>1</td>\n",
       "      <td>0</td>\n",
       "    </tr>\n",
       "    <tr>\n",
       "      <td>839982</td>\n",
       "      <td>12</td>\n",
       "      <td>26</td>\n",
       "      <td>1715</td>\n",
       "      <td>1.0</td>\n",
       "      <td>1</td>\n",
       "      <td>416.0</td>\n",
       "      <td>1</td>\n",
       "      <td>0</td>\n",
       "    </tr>\n",
       "    <tr>\n",
       "      <td>839983</td>\n",
       "      <td>12</td>\n",
       "      <td>27</td>\n",
       "      <td>1500</td>\n",
       "      <td>2.0</td>\n",
       "      <td>1</td>\n",
       "      <td>416.0</td>\n",
       "      <td>1</td>\n",
       "      <td>0</td>\n",
       "    </tr>\n",
       "    <tr>\n",
       "      <td>839984</td>\n",
       "      <td>12</td>\n",
       "      <td>31</td>\n",
       "      <td>2100</td>\n",
       "      <td>2.0</td>\n",
       "      <td>5</td>\n",
       "      <td>414.0</td>\n",
       "      <td>1</td>\n",
       "      <td>0</td>\n",
       "    </tr>\n",
       "  </tbody>\n",
       "</table>\n",
       "<p>817044 rows × 8 columns</p>\n",
       "</div>"
      ],
      "text/plain": [
       "        month  day  hour  atm  lum    com  suma  y\n",
       "0           2    1  1445  8.0    1    5.0     1  0\n",
       "1           3   16  1800  1.0    1    5.0     1  0\n",
       "2           7   13  1900  1.0    1   11.0     1  0\n",
       "3           8   15  1930  7.0    2  477.0     1  0\n",
       "4          12   23  1100  1.0    1   11.0     1  0\n",
       "...       ...  ...   ...  ...  ...    ...   ... ..\n",
       "839980     12   21  2035  1.0    5  416.0     1  0\n",
       "839981     12   23  1010  1.0    1  416.0     1  0\n",
       "839982     12   26  1715  1.0    1  416.0     1  0\n",
       "839983     12   27  1500  2.0    1  416.0     1  0\n",
       "839984     12   31  2100  2.0    5  414.0     1  0\n",
       "\n",
       "[817044 rows x 8 columns]"
      ]
     },
     "execution_count": 42,
     "metadata": {},
     "output_type": "execute_result"
    }
   ],
   "source": [
    "characteristics_reg_un['y'] = [1 if x >= mo else 0 for x in characteristics_reg_un['suma']]\n",
    "characteristics_reg_un"
   ]
  },
  {
   "cell_type": "code",
   "execution_count": 43,
   "metadata": {
    "ExecuteTime": {
     "end_time": "2020-01-21T20:58:24.773334Z",
     "start_time": "2020-01-21T20:58:24.488730Z"
    }
   },
   "outputs": [],
   "source": [
    "# split the data\n",
    "from sklearn.model_selection import train_test_split\n",
    "train, test = train_test_split(characteristics_reg_un[::], test_size=0.2, random_state=8)\n",
    "\n",
    "x_train = train.drop(['y', 'suma'], axis=1)\n",
    "y_train = train['y']\n",
    "\n",
    "x_test = test.drop(['y', 'suma'], axis=1)\n",
    "y_test = test['y']\n"
   ]
  },
  {
   "cell_type": "code",
   "execution_count": 44,
   "metadata": {
    "ExecuteTime": {
     "end_time": "2020-01-21T20:58:39.706545Z",
     "start_time": "2020-01-21T20:58:26.098346Z"
    }
   },
   "outputs": [
    {
     "data": {
      "image/png": "[encoded data removed]",
      "text/plain": [
       "<Figure size 1080x360 with 2 Axes>"
      ]
     },
     "metadata": {
      "needs_background": "light"
     },
     "output_type": "display_data"
    }
   ],
   "source": [
    "colors = ['c','r']\n",
    "label_text = [\"safe\" ,\"dangerous\"]\n",
    "\n",
    "fig, axes = plt.subplots(nrows=1, ncols=2, figsize=(15,5))\n",
    "\n",
    "for cur_colour in [0, 1]:\n",
    "    cur_df = train[train['y'] == cur_colour]\n",
    "    axes[0].scatter(cur_df['lum'], cur_df['atm'], c = colors[cur_colour], label=label_text[cur_colour])\n",
    "    \n",
    "for cur_colour in [0, 1]:\n",
    "    cur_df = train[train['y'] == cur_colour]\n",
    "    axes[1].scatter(cur_df['com'], cur_df['hour'], c = colors[cur_colour], label=label_text[cur_colour])\n",
    "\n",
    "fig.suptitle(\"SCATTER PLOTS\")\n",
    "axes[0].set(xlabel=\"lighting conditions\", ylabel=\"Atmospheric conditions\")\n",
    "axes[1].set(xlabel=\"Municipality\", ylabel=\"hour\")\n",
    "axes[1].legend(loc=1);\n",
    "axes[0].legend(loc=1);"
   ]
  },
  {
   "cell_type": "code",
   "execution_count": 45,
   "metadata": {
    "ExecuteTime": {
     "end_time": "2020-01-21T20:59:45.186496Z",
     "start_time": "2020-01-21T20:58:47.127390Z"
    }
   },
   "outputs": [
    {
     "name": "stdout",
     "output_type": "stream",
     "text": [
      "\n",
      "---------------------------------------------------------------------------------\n",
      "\n",
      "Parameters with sklearn fit:\n",
      "[[ 9.72985209e-03 -1.36564099e-03  2.86808453e-04 -1.22958865e+00\n",
      "  -2.72038627e-01 -4.03900497e-03]]\n",
      "const with sklearn fit:\n",
      "[-2.00322917]\n",
      "\n",
      "---------------------------------------------------------------------------------\n",
      "\n"
     ]
    }
   ],
   "source": [
    "from sklearn.linear_model import LogisticRegression\n",
    "print(\"\\n---------------------------------------------------------------------------------\\n\")\n",
    "fitted_lr = LogisticRegression(C=1e7 ,solver='newton-cg', multi_class= 'ovr', max_iter = 1000000)\n",
    "fitted_lr= fitted_lr.fit(x_train, y_train)\n",
    "print(\"Parameters with sklearn fit:\\n{}\".format(fitted_lr.coef_))\n",
    "print(\"const with sklearn fit:\\n{}\".format(fitted_lr.intercept_))\n",
    "print(\"\\n---------------------------------------------------------------------------------\\n\")"
   ]
  },
  {
   "cell_type": "code",
   "execution_count": 46,
   "metadata": {
    "ExecuteTime": {
     "end_time": "2020-01-21T20:59:54.910374Z",
     "start_time": "2020-01-21T20:59:54.752773Z"
    }
   },
   "outputs": [
    {
     "data": {
      "text/plain": [
       "0.9815738141317402"
      ]
     },
     "execution_count": 46,
     "metadata": {},
     "output_type": "execute_result"
    }
   ],
   "source": [
    "fitted_lr.score(x_train, y_train)"
   ]
  },
  {
   "cell_type": "code",
   "execution_count": 47,
   "metadata": {
    "ExecuteTime": {
     "end_time": "2020-01-21T20:59:57.106927Z",
     "start_time": "2020-01-21T20:59:57.068029Z"
    }
   },
   "outputs": [
    {
     "data": {
      "text/plain": [
       "0.9815187657962535"
      ]
     },
     "execution_count": 47,
     "metadata": {},
     "output_type": "execute_result"
    }
   ],
   "source": [
    "fitted_lr.score(x_test, y_test)"
   ]
  },
  {
   "cell_type": "code",
   "execution_count": 1,
   "metadata": {
    "ExecuteTime": {
     "end_time": "2020-01-22T08:34:46.556047Z",
     "start_time": "2020-01-22T08:34:46.534104Z"
    }
   },
   "outputs": [
    {
     "ename": "SyntaxError",
     "evalue": "unexpected EOF while parsing (<ipython-input-1-c4cfa7ec8e42>, line 5)",
     "output_type": "error",
     "traceback": [
      "\u001b[1;36m  File \u001b[1;32m\"<ipython-input-1-c4cfa7ec8e42>\"\u001b[1;36m, line \u001b[1;32m5\u001b[0m\n\u001b[1;33m    print(classification_report(y_test, y_pred)\u001b[0m\n\u001b[1;37m                                               ^\u001b[0m\n\u001b[1;31mSyntaxError\u001b[0m\u001b[1;31m:\u001b[0m unexpected EOF while parsing\n"
     ]
    }
   ],
   "source": [
    "from sklearn.metrics import confusion_matrix\n",
    "\n",
    "y_pred = fitted_lr.predict(x_test)\n",
    "confusion_matrix(y_test, y_pred)\n",
    "print(classification_report(y_test, y_pred)"
   ]
  },
  {
   "cell_type": "markdown",
   "metadata": {},
   "source": [
    "Predict what is the possibility of an accident to occure knowing: the Category of road(catr), Traffic regime(circ), existence of a reserved lane(vosp), surface condition(surf)"
   ]
  },
  {
   "cell_type": "code",
   "execution_count": 49,
   "metadata": {
    "ExecuteTime": {
     "end_time": "2020-01-21T21:00:01.779777Z",
     "start_time": "2020-01-21T21:00:01.700988Z"
    }
   },
   "outputs": [
    {
     "data": {
      "text/html": [
       "<div>\n",
       "<style scoped>\n",
       "    .dataframe tbody tr th:only-of-type {\n",
       "        vertical-align: middle;\n",
       "    }\n",
       "\n",
       "    .dataframe tbody tr th {\n",
       "        vertical-align: top;\n",
       "    }\n",
       "\n",
       "    .dataframe thead th {\n",
       "        text-align: right;\n",
       "    }\n",
       "</style>\n",
       "<table border=\"1\" class=\"dataframe\">\n",
       "  <thead>\n",
       "    <tr style=\"text-align: right;\">\n",
       "      <th></th>\n",
       "      <th>catr</th>\n",
       "      <th>circ</th>\n",
       "      <th>vosp</th>\n",
       "      <th>surf</th>\n",
       "    </tr>\n",
       "  </thead>\n",
       "  <tbody>\n",
       "    <tr>\n",
       "      <td>0</td>\n",
       "      <td>3.0</td>\n",
       "      <td>2.0</td>\n",
       "      <td>0.0</td>\n",
       "      <td>1.0</td>\n",
       "    </tr>\n",
       "    <tr>\n",
       "      <td>1</td>\n",
       "      <td>3.0</td>\n",
       "      <td>1.0</td>\n",
       "      <td>0.0</td>\n",
       "      <td>1.0</td>\n",
       "    </tr>\n",
       "    <tr>\n",
       "      <td>2</td>\n",
       "      <td>3.0</td>\n",
       "      <td>2.0</td>\n",
       "      <td>0.0</td>\n",
       "      <td>2.0</td>\n",
       "    </tr>\n",
       "    <tr>\n",
       "      <td>3</td>\n",
       "      <td>4.0</td>\n",
       "      <td>2.0</td>\n",
       "      <td>0.0</td>\n",
       "      <td>1.0</td>\n",
       "    </tr>\n",
       "    <tr>\n",
       "      <td>4</td>\n",
       "      <td>4.0</td>\n",
       "      <td>0.0</td>\n",
       "      <td>0.0</td>\n",
       "      <td>1.0</td>\n",
       "    </tr>\n",
       "    <tr>\n",
       "      <td>...</td>\n",
       "      <td>...</td>\n",
       "      <td>...</td>\n",
       "      <td>...</td>\n",
       "      <td>...</td>\n",
       "    </tr>\n",
       "    <tr>\n",
       "      <td>839980</td>\n",
       "      <td>4.0</td>\n",
       "      <td>2.0</td>\n",
       "      <td>0.0</td>\n",
       "      <td>1.0</td>\n",
       "    </tr>\n",
       "    <tr>\n",
       "      <td>839981</td>\n",
       "      <td>4.0</td>\n",
       "      <td>2.0</td>\n",
       "      <td>0.0</td>\n",
       "      <td>1.0</td>\n",
       "    </tr>\n",
       "    <tr>\n",
       "      <td>839982</td>\n",
       "      <td>4.0</td>\n",
       "      <td>1.0</td>\n",
       "      <td>0.0</td>\n",
       "      <td>1.0</td>\n",
       "    </tr>\n",
       "    <tr>\n",
       "      <td>839983</td>\n",
       "      <td>4.0</td>\n",
       "      <td>2.0</td>\n",
       "      <td>0.0</td>\n",
       "      <td>1.0</td>\n",
       "    </tr>\n",
       "    <tr>\n",
       "      <td>839984</td>\n",
       "      <td>2.0</td>\n",
       "      <td>3.0</td>\n",
       "      <td>0.0</td>\n",
       "      <td>2.0</td>\n",
       "    </tr>\n",
       "  </tbody>\n",
       "</table>\n",
       "<p>839985 rows × 4 columns</p>\n",
       "</div>"
      ],
      "text/plain": [
       "        catr  circ  vosp  surf\n",
       "0        3.0   2.0   0.0   1.0\n",
       "1        3.0   1.0   0.0   1.0\n",
       "2        3.0   2.0   0.0   2.0\n",
       "3        4.0   2.0   0.0   1.0\n",
       "4        4.0   0.0   0.0   1.0\n",
       "...      ...   ...   ...   ...\n",
       "839980   4.0   2.0   0.0   1.0\n",
       "839981   4.0   2.0   0.0   1.0\n",
       "839982   4.0   1.0   0.0   1.0\n",
       "839983   4.0   2.0   0.0   1.0\n",
       "839984   2.0   3.0   0.0   2.0\n",
       "\n",
       "[839985 rows x 4 columns]"
      ]
     },
     "execution_count": 49,
     "metadata": {},
     "output_type": "execute_result"
    }
   ],
   "source": [
    "places_temp = places[['Num_Acc', 'catr', 'circ', 'vosp', 'surf']]\n",
    "users_temp = users[['Num_Acc', 'catu']]\n",
    "#df = pd.merge(places_temp, users_temp, on='Num_Acc')\n",
    "df = places_temp.drop(['Num_Acc'] , axis=1)\n",
    "df"
   ]
  },
  {
   "cell_type": "code",
   "execution_count": 50,
   "metadata": {
    "ExecuteTime": {
     "end_time": "2020-01-21T21:00:05.595345Z",
     "start_time": "2020-01-21T21:00:04.887724Z"
    }
   },
   "outputs": [
    {
     "data": {
      "text/html": [
       "<div>\n",
       "<style scoped>\n",
       "    .dataframe tbody tr th:only-of-type {\n",
       "        vertical-align: middle;\n",
       "    }\n",
       "\n",
       "    .dataframe tbody tr th {\n",
       "        vertical-align: top;\n",
       "    }\n",
       "\n",
       "    .dataframe thead th {\n",
       "        text-align: right;\n",
       "    }\n",
       "</style>\n",
       "<table border=\"1\" class=\"dataframe\">\n",
       "  <thead>\n",
       "    <tr style=\"text-align: right;\">\n",
       "      <th></th>\n",
       "      <th>timi</th>\n",
       "      <th>row</th>\n",
       "    </tr>\n",
       "  </thead>\n",
       "  <tbody>\n",
       "    <tr>\n",
       "      <td>0</td>\n",
       "      <td>True</td>\n",
       "      <td>0</td>\n",
       "    </tr>\n",
       "    <tr>\n",
       "      <td>1</td>\n",
       "      <td>True</td>\n",
       "      <td>1</td>\n",
       "    </tr>\n",
       "    <tr>\n",
       "      <td>2</td>\n",
       "      <td>True</td>\n",
       "      <td>2</td>\n",
       "    </tr>\n",
       "    <tr>\n",
       "      <td>3</td>\n",
       "      <td>True</td>\n",
       "      <td>3</td>\n",
       "    </tr>\n",
       "    <tr>\n",
       "      <td>4</td>\n",
       "      <td>True</td>\n",
       "      <td>4</td>\n",
       "    </tr>\n",
       "    <tr>\n",
       "      <td>...</td>\n",
       "      <td>...</td>\n",
       "      <td>...</td>\n",
       "    </tr>\n",
       "    <tr>\n",
       "      <td>839975</td>\n",
       "      <td>True</td>\n",
       "      <td>839975</td>\n",
       "    </tr>\n",
       "    <tr>\n",
       "      <td>839977</td>\n",
       "      <td>True</td>\n",
       "      <td>839977</td>\n",
       "    </tr>\n",
       "    <tr>\n",
       "      <td>839978</td>\n",
       "      <td>True</td>\n",
       "      <td>839978</td>\n",
       "    </tr>\n",
       "    <tr>\n",
       "      <td>839980</td>\n",
       "      <td>True</td>\n",
       "      <td>839980</td>\n",
       "    </tr>\n",
       "    <tr>\n",
       "      <td>839981</td>\n",
       "      <td>True</td>\n",
       "      <td>839981</td>\n",
       "    </tr>\n",
       "  </tbody>\n",
       "</table>\n",
       "<p>839209 rows × 2 columns</p>\n",
       "</div>"
      ],
      "text/plain": [
       "        timi     row\n",
       "0       True       0\n",
       "1       True       1\n",
       "2       True       2\n",
       "3       True       3\n",
       "4       True       4\n",
       "...      ...     ...\n",
       "839975  True  839975\n",
       "839977  True  839977\n",
       "839978  True  839978\n",
       "839980  True  839980\n",
       "839981  True  839981\n",
       "\n",
       "[839209 rows x 2 columns]"
      ]
     },
     "execution_count": 50,
     "metadata": {},
     "output_type": "execute_result"
    }
   ],
   "source": [
    "df['suma'] = [1]*(df.shape[0])\n",
    "#dup = (columns = ['timi']\n",
    "dup = pd.DataFrame(df.duplicated(subset=None, keep='last'), columns=['timi'])\n",
    "dup['row'] = list(range(0, dup.shape[0], 1))\n",
    "dup = dup[dup['timi'] == True]\n",
    "dup"
   ]
  },
  {
   "cell_type": "code",
   "execution_count": 51,
   "metadata": {
    "ExecuteTime": {
     "end_time": "2020-01-21T21:00:08.774137Z",
     "start_time": "2020-01-21T21:00:08.473642Z"
    }
   },
   "outputs": [],
   "source": [
    "df['row'] = list(range(0, df.shape[0], 1))"
   ]
  },
  {
   "cell_type": "code",
   "execution_count": 52,
   "metadata": {
    "ExecuteTime": {
     "end_time": "2020-01-21T21:03:10.630199Z",
     "start_time": "2020-01-21T21:00:10.295485Z"
    }
   },
   "outputs": [],
   "source": [
    "i = 0\n",
    "while True:\n",
    "    l = dup.iloc[i].loc['row']\n",
    "    char = pd.DataFrame(columns = ['catr', 'circ', 'vosp', 'surf', 'row'])\n",
    "    char = df[df['catr'] == df.iloc[l].loc['catr']]\n",
    "    char = char[char['circ'] == df.iloc[l].loc['circ']]\n",
    "    char = char[char['vosp'] == df.iloc[l].loc['vosp']]\n",
    "    char = char[char['surf'] == df.iloc[l].loc['surf']]\n",
    "    #char = char[char['catu'] == df.iloc[l].loc['catu']]\n",
    "    dup['row'] = [x if x not in char['row'] else -1 for x in dup['row']]\n",
    "    dup = dup[dup['row'] != -1]\n",
    "    df.at[l,'suma'] = char.shape[0]\n",
    "    if i + 1 >= dup.shape[0]:\n",
    "        break\n",
    "    else:\n",
    "        i = i+1"
   ]
  },
  {
   "cell_type": "code",
   "execution_count": 55,
   "metadata": {
    "ExecuteTime": {
     "end_time": "2020-01-21T21:03:41.050174Z",
     "start_time": "2020-01-21T21:03:40.891954Z"
    }
   },
   "outputs": [],
   "source": [
    "df = df[['catr', 'circ', 'vosp', 'surf', 'suma']]\n",
    "df_un = df.drop_duplicates(df.columns[:-1], keep='first')\n",
    "mo = df_un['suma'].mean()\n",
    "df_un['y'] = [1 if x >= mo else 0 for x in df_un['suma']]\n",
    "df_un.dropna();"
   ]
  },
  {
   "cell_type": "code",
   "execution_count": 56,
   "metadata": {
    "ExecuteTime": {
     "end_time": "2020-01-21T21:03:42.942539Z",
     "start_time": "2020-01-21T21:03:42.928577Z"
    }
   },
   "outputs": [],
   "source": [
    "df_un = df_un[df_un['catr'] <= max(df_un['catr'] )]\n",
    "df_un = df_un[df_un['circ'] <= max(df_un['circ'] )]\n",
    "df_un = df_un[df_un['vosp'] <= max(df_un['vosp'] )]\n",
    "df_un = df_un[df_un['surf'] <= max(df_un['surf'] )]"
   ]
  },
  {
   "cell_type": "code",
   "execution_count": 57,
   "metadata": {
    "ExecuteTime": {
     "end_time": "2020-01-21T21:03:44.902084Z",
     "start_time": "2020-01-21T21:03:44.889119Z"
    }
   },
   "outputs": [],
   "source": [
    "# split the data\n",
    "from sklearn.model_selection import train_test_split\n",
    "train, test = train_test_split(df_un[::], test_size=0.2, random_state=8)\n",
    "\n",
    "x_train = train.drop(['y', 'suma'], axis=1)\n",
    "y_train = train['y']\n",
    "\n",
    "x_test = test.drop(['y', 'suma'], axis=1)\n",
    "y_test = test['y']\n"
   ]
  },
  {
   "cell_type": "code",
   "execution_count": 58,
   "metadata": {
    "ExecuteTime": {
     "end_time": "2020-01-21T21:03:47.491696Z",
     "start_time": "2020-01-21T21:03:46.994215Z"
    }
   },
   "outputs": [
    {
     "data": {
      "image/png": "[encoded data removed]",
      "text/plain": [
       "<Figure size 1080x360 with 2 Axes>"
      ]
     },
     "metadata": {
      "needs_background": "light"
     },
     "output_type": "display_data"
    }
   ],
   "source": [
    "colors = ['c','r']\n",
    "label_text = [\"safe\" ,\"dangerous\"]\n",
    "\n",
    "fig, axes = plt.subplots(nrows=1, ncols=2, figsize=(15,5))\n",
    "\n",
    "for cur_colour in [0, 1]:\n",
    "    cur_df = train[train['y'] == cur_colour]\n",
    "    axes[0].scatter(cur_df['catr'], cur_df['circ'], c = colors[cur_colour], label=label_text[cur_colour])\n",
    "    \n",
    "for cur_colour in [0, 1]:\n",
    "    cur_df = train[train['y'] == cur_colour]\n",
    "    axes[1].scatter(cur_df['vosp'], cur_df['surf'], c = colors[cur_colour], label=label_text[cur_colour])\n",
    "\n",
    "fig.suptitle(\"SCATTER PLOTS\")\n",
    "axes[0].set(xlabel=\" Category of road\", ylabel=\" Traffic regime\")\n",
    "axes[1].set(xlabel=\"existence of a reserved lane\", ylabel=\"surface condition\")\n",
    "axes[1].legend(loc=1);\n",
    "axes[0].legend(loc=1);"
   ]
  },
  {
   "cell_type": "code",
   "execution_count": 59,
   "metadata": {
    "ExecuteTime": {
     "end_time": "2020-01-21T21:04:14.116894Z",
     "start_time": "2020-01-21T21:04:14.084980Z"
    }
   },
   "outputs": [
    {
     "name": "stdout",
     "output_type": "stream",
     "text": [
      "\n",
      "---------------------------------------------------------------------------------\n",
      "\n",
      "Parameters with sklearn fit:\n",
      "[[-0.02729075 -0.11646035 -0.39187854 -0.24410698]]\n",
      "const with sklearn fit:\n",
      "[-1.7623328]\n",
      "\n",
      "---------------------------------------------------------------------------------\n",
      "\n"
     ]
    }
   ],
   "source": [
    "from sklearn.linear_model import LogisticRegression\n",
    "print(\"\\n---------------------------------------------------------------------------------\\n\")\n",
    "fitted_lr = LogisticRegression(C=1e7 ,solver='newton-cg', multi_class= 'ovr', max_iter = 1000000)\n",
    "fitted_lr= fitted_lr.fit(x_train, y_train)\n",
    "print(\"Parameters with sklearn fit:\\n{}\".format(fitted_lr.coef_))\n",
    "print(\"const with sklearn fit:\\n{}\".format(fitted_lr.intercept_))\n",
    "print(\"\\n---------------------------------------------------------------------------------\\n\")"
   ]
  },
  {
   "cell_type": "code",
   "execution_count": 60,
   "metadata": {
    "ExecuteTime": {
     "end_time": "2020-01-21T21:04:18.053032Z",
     "start_time": "2020-01-21T21:04:18.037284Z"
    }
   },
   "outputs": [
    {
     "data": {
      "text/plain": [
       "0.960820895522388"
      ]
     },
     "execution_count": 60,
     "metadata": {},
     "output_type": "execute_result"
    }
   ],
   "source": [
    "fitted_lr.score(x_train, y_train)"
   ]
  },
  {
   "cell_type": "code",
   "execution_count": 61,
   "metadata": {
    "ExecuteTime": {
     "end_time": "2020-01-21T21:04:21.098048Z",
     "start_time": "2020-01-21T21:04:21.089105Z"
    }
   },
   "outputs": [
    {
     "data": {
      "text/plain": [
       "0.9555555555555556"
      ]
     },
     "execution_count": 61,
     "metadata": {},
     "output_type": "execute_result"
    }
   ],
   "source": [
    "fitted_lr.score(x_test, y_test)"
   ]
  },
  {
   "cell_type": "code",
   "execution_count": 62,
   "metadata": {
    "ExecuteTime": {
     "end_time": "2020-01-21T21:04:28.103626Z",
     "start_time": "2020-01-21T21:04:28.094649Z"
    }
   },
   "outputs": [
    {
     "data": {
      "text/plain": [
       "array([[129,   0],\n",
       "       [  6,   0]], dtype=int64)"
      ]
     },
     "execution_count": 62,
     "metadata": {},
     "output_type": "execute_result"
    }
   ],
   "source": [
    "from sklearn.metrics import confusion_matrix\n",
    "\n",
    "y_pred = fitted_lr.predict(x_test)\n",
    "confusion_matrix(y_test, y_pred)"
   ]
  },
  {
   "cell_type": "markdown",
   "metadata": {},
   "source": [
    "Now i will add users status"
   ]
  },
  {
   "cell_type": "code",
   "execution_count": 63,
   "metadata": {
    "ExecuteTime": {
     "end_time": "2020-01-21T21:04:31.484405Z",
     "start_time": "2020-01-21T21:04:30.795345Z"
    }
   },
   "outputs": [
    {
     "data": {
      "text/html": [
       "<div>\n",
       "<style scoped>\n",
       "    .dataframe tbody tr th:only-of-type {\n",
       "        vertical-align: middle;\n",
       "    }\n",
       "\n",
       "    .dataframe tbody tr th {\n",
       "        vertical-align: top;\n",
       "    }\n",
       "\n",
       "    .dataframe thead th {\n",
       "        text-align: right;\n",
       "    }\n",
       "</style>\n",
       "<table border=\"1\" class=\"dataframe\">\n",
       "  <thead>\n",
       "    <tr style=\"text-align: right;\">\n",
       "      <th></th>\n",
       "      <th>catr</th>\n",
       "      <th>circ</th>\n",
       "      <th>vosp</th>\n",
       "      <th>surf</th>\n",
       "      <th>catu</th>\n",
       "    </tr>\n",
       "  </thead>\n",
       "  <tbody>\n",
       "    <tr>\n",
       "      <td>0</td>\n",
       "      <td>3.0</td>\n",
       "      <td>2.0</td>\n",
       "      <td>0.0</td>\n",
       "      <td>1.0</td>\n",
       "      <td>1</td>\n",
       "    </tr>\n",
       "    <tr>\n",
       "      <td>1</td>\n",
       "      <td>3.0</td>\n",
       "      <td>2.0</td>\n",
       "      <td>0.0</td>\n",
       "      <td>1.0</td>\n",
       "      <td>1</td>\n",
       "    </tr>\n",
       "    <tr>\n",
       "      <td>2</td>\n",
       "      <td>3.0</td>\n",
       "      <td>1.0</td>\n",
       "      <td>0.0</td>\n",
       "      <td>1.0</td>\n",
       "      <td>1</td>\n",
       "    </tr>\n",
       "    <tr>\n",
       "      <td>3</td>\n",
       "      <td>3.0</td>\n",
       "      <td>1.0</td>\n",
       "      <td>0.0</td>\n",
       "      <td>1.0</td>\n",
       "      <td>2</td>\n",
       "    </tr>\n",
       "    <tr>\n",
       "      <td>4</td>\n",
       "      <td>3.0</td>\n",
       "      <td>1.0</td>\n",
       "      <td>0.0</td>\n",
       "      <td>1.0</td>\n",
       "      <td>2</td>\n",
       "    </tr>\n",
       "    <tr>\n",
       "      <td>...</td>\n",
       "      <td>...</td>\n",
       "      <td>...</td>\n",
       "      <td>...</td>\n",
       "      <td>...</td>\n",
       "      <td>...</td>\n",
       "    </tr>\n",
       "    <tr>\n",
       "      <td>1048570</td>\n",
       "      <td>3.0</td>\n",
       "      <td>2.0</td>\n",
       "      <td>0.0</td>\n",
       "      <td>1.0</td>\n",
       "      <td>1</td>\n",
       "    </tr>\n",
       "    <tr>\n",
       "      <td>1048571</td>\n",
       "      <td>3.0</td>\n",
       "      <td>2.0</td>\n",
       "      <td>0.0</td>\n",
       "      <td>1.0</td>\n",
       "      <td>2</td>\n",
       "    </tr>\n",
       "    <tr>\n",
       "      <td>1048572</td>\n",
       "      <td>3.0</td>\n",
       "      <td>2.0</td>\n",
       "      <td>0.0</td>\n",
       "      <td>1.0</td>\n",
       "      <td>1</td>\n",
       "    </tr>\n",
       "    <tr>\n",
       "      <td>1048573</td>\n",
       "      <td>3.0</td>\n",
       "      <td>0.0</td>\n",
       "      <td>0.0</td>\n",
       "      <td>1.0</td>\n",
       "      <td>1</td>\n",
       "    </tr>\n",
       "    <tr>\n",
       "      <td>1048574</td>\n",
       "      <td>3.0</td>\n",
       "      <td>0.0</td>\n",
       "      <td>0.0</td>\n",
       "      <td>1.0</td>\n",
       "      <td>1</td>\n",
       "    </tr>\n",
       "  </tbody>\n",
       "</table>\n",
       "<p>1048575 rows × 5 columns</p>\n",
       "</div>"
      ],
      "text/plain": [
       "         catr  circ  vosp  surf  catu\n",
       "0         3.0   2.0   0.0   1.0     1\n",
       "1         3.0   2.0   0.0   1.0     1\n",
       "2         3.0   1.0   0.0   1.0     1\n",
       "3         3.0   1.0   0.0   1.0     2\n",
       "4         3.0   1.0   0.0   1.0     2\n",
       "...       ...   ...   ...   ...   ...\n",
       "1048570   3.0   2.0   0.0   1.0     1\n",
       "1048571   3.0   2.0   0.0   1.0     2\n",
       "1048572   3.0   2.0   0.0   1.0     1\n",
       "1048573   3.0   0.0   0.0   1.0     1\n",
       "1048574   3.0   0.0   0.0   1.0     1\n",
       "\n",
       "[1048575 rows x 5 columns]"
      ]
     },
     "execution_count": 63,
     "metadata": {},
     "output_type": "execute_result"
    }
   ],
   "source": [
    "places_temp = places[['Num_Acc', 'catr', 'circ', 'vosp', 'surf']]\n",
    "users_temp = users[['Num_Acc', 'catu']]\n",
    "df = pd.merge(places_temp, users_temp, on='Num_Acc')\n",
    "df = df.drop(['Num_Acc'] , axis=1)\n",
    "df"
   ]
  },
  {
   "cell_type": "code",
   "execution_count": 64,
   "metadata": {
    "ExecuteTime": {
     "end_time": "2020-01-21T21:04:36.652486Z",
     "start_time": "2020-01-21T21:04:35.848129Z"
    }
   },
   "outputs": [
    {
     "data": {
      "text/html": [
       "<div>\n",
       "<style scoped>\n",
       "    .dataframe tbody tr th:only-of-type {\n",
       "        vertical-align: middle;\n",
       "    }\n",
       "\n",
       "    .dataframe tbody tr th {\n",
       "        vertical-align: top;\n",
       "    }\n",
       "\n",
       "    .dataframe thead th {\n",
       "        text-align: right;\n",
       "    }\n",
       "</style>\n",
       "<table border=\"1\" class=\"dataframe\">\n",
       "  <thead>\n",
       "    <tr style=\"text-align: right;\">\n",
       "      <th></th>\n",
       "      <th>timi</th>\n",
       "      <th>row</th>\n",
       "    </tr>\n",
       "  </thead>\n",
       "  <tbody>\n",
       "    <tr>\n",
       "      <td>0</td>\n",
       "      <td>True</td>\n",
       "      <td>0</td>\n",
       "    </tr>\n",
       "    <tr>\n",
       "      <td>1</td>\n",
       "      <td>True</td>\n",
       "      <td>1</td>\n",
       "    </tr>\n",
       "    <tr>\n",
       "      <td>2</td>\n",
       "      <td>True</td>\n",
       "      <td>2</td>\n",
       "    </tr>\n",
       "    <tr>\n",
       "      <td>3</td>\n",
       "      <td>True</td>\n",
       "      <td>3</td>\n",
       "    </tr>\n",
       "    <tr>\n",
       "      <td>4</td>\n",
       "      <td>True</td>\n",
       "      <td>4</td>\n",
       "    </tr>\n",
       "    <tr>\n",
       "      <td>...</td>\n",
       "      <td>...</td>\n",
       "      <td>...</td>\n",
       "    </tr>\n",
       "    <tr>\n",
       "      <td>1048564</td>\n",
       "      <td>True</td>\n",
       "      <td>1048564</td>\n",
       "    </tr>\n",
       "    <tr>\n",
       "      <td>1048567</td>\n",
       "      <td>True</td>\n",
       "      <td>1048567</td>\n",
       "    </tr>\n",
       "    <tr>\n",
       "      <td>1048568</td>\n",
       "      <td>True</td>\n",
       "      <td>1048568</td>\n",
       "    </tr>\n",
       "    <tr>\n",
       "      <td>1048570</td>\n",
       "      <td>True</td>\n",
       "      <td>1048570</td>\n",
       "    </tr>\n",
       "    <tr>\n",
       "      <td>1048573</td>\n",
       "      <td>True</td>\n",
       "      <td>1048573</td>\n",
       "    </tr>\n",
       "  </tbody>\n",
       "</table>\n",
       "<p>1046879 rows × 2 columns</p>\n",
       "</div>"
      ],
      "text/plain": [
       "         timi      row\n",
       "0        True        0\n",
       "1        True        1\n",
       "2        True        2\n",
       "3        True        3\n",
       "4        True        4\n",
       "...       ...      ...\n",
       "1048564  True  1048564\n",
       "1048567  True  1048567\n",
       "1048568  True  1048568\n",
       "1048570  True  1048570\n",
       "1048573  True  1048573\n",
       "\n",
       "[1046879 rows x 2 columns]"
      ]
     },
     "execution_count": 64,
     "metadata": {},
     "output_type": "execute_result"
    }
   ],
   "source": [
    "df['suma'] = [1]*(df.shape[0])\n",
    "dup = pd.DataFrame(df.duplicated(subset=None, keep='last'), columns=['timi'])\n",
    "dup['row'] = list(range(0, dup.shape[0], 1))\n",
    "dup = dup[dup['timi'] == True]\n",
    "dup"
   ]
  },
  {
   "cell_type": "code",
   "execution_count": 65,
   "metadata": {
    "ExecuteTime": {
     "end_time": "2020-01-21T21:04:39.416198Z",
     "start_time": "2020-01-21T21:04:39.047179Z"
    }
   },
   "outputs": [],
   "source": [
    "df['row'] = list(range(0, df.shape[0], 1))"
   ]
  },
  {
   "cell_type": "code",
   "execution_count": 66,
   "metadata": {
    "ExecuteTime": {
     "end_time": "2020-01-21T21:14:08.835278Z",
     "start_time": "2020-01-21T21:04:40.657234Z"
    }
   },
   "outputs": [],
   "source": [
    "i = 0\n",
    "while True:\n",
    "    l = dup.iloc[i].loc['row']\n",
    "    char = pd.DataFrame(columns = ['catr', 'circ', 'vosp', 'surf', 'catu','row'])\n",
    "    char = df[df['catr'] == df.iloc[l].loc['catr']]\n",
    "    char = char[char['circ'] == df.iloc[l].loc['circ']]\n",
    "    char = char[char['vosp'] == df.iloc[l].loc['vosp']]\n",
    "    char = char[char['surf'] == df.iloc[l].loc['surf']]\n",
    "    char = char[char['catu'] == df.iloc[l].loc['catu']]\n",
    "    dup['row'] = [x if x not in char['row'] else -1 for x in dup['row']]\n",
    "    dup = dup[dup['row'] != -1]\n",
    "    df.at[l,'suma'] = char.shape[0]\n",
    "    if i + 1 >= dup.shape[0]:\n",
    "        break\n",
    "    else:\n",
    "        i = i+1"
   ]
  },
  {
   "cell_type": "code",
   "execution_count": 67,
   "metadata": {
    "ExecuteTime": {
     "end_time": "2020-01-21T21:14:09.224202Z",
     "start_time": "2020-01-21T21:14:08.995791Z"
    }
   },
   "outputs": [],
   "source": [
    "df = df[['catr', 'circ', 'vosp', 'surf','catu', 'suma']]\n",
    "df_un = df.drop_duplicates(df.columns[:-1], keep='first')\n",
    "mo = df_un['suma'].mean()\n",
    "df_un['y'] = [1 if x >= mo else 0 for x in df_un['suma']]\n",
    "df_un.dropna();"
   ]
  },
  {
   "cell_type": "code",
   "execution_count": 68,
   "metadata": {
    "ExecuteTime": {
     "end_time": "2020-01-21T21:14:09.396988Z",
     "start_time": "2020-01-21T21:14:09.381030Z"
    }
   },
   "outputs": [],
   "source": [
    "df_un = df_un[df_un['catr'] <= max(df_un['catr'] )]\n",
    "df_un = df_un[df_un['circ'] <= max(df_un['circ'] )]\n",
    "df_un = df_un[df_un['vosp'] <= max(df_un['vosp'] )]\n",
    "df_un = df_un[df_un['surf'] <= max(df_un['surf'] )]\n",
    "df_un = df_un[df_un['catu'] <= max(df_un['catu'] )]"
   ]
  },
  {
   "cell_type": "code",
   "execution_count": 69,
   "metadata": {
    "ExecuteTime": {
     "end_time": "2020-01-21T21:14:09.580017Z",
     "start_time": "2020-01-21T21:14:09.566048Z"
    }
   },
   "outputs": [],
   "source": [
    "# split the data\n",
    "from sklearn.model_selection import train_test_split\n",
    "train, test = train_test_split(df_un[::], test_size=0.2, random_state=8)\n",
    "\n",
    "x_train = train.drop(['y', 'suma'], axis=1)\n",
    "y_train = train['y']\n",
    "\n",
    "x_test = test.drop(['y', 'suma'], axis=1)\n",
    "y_test = test['y']\n"
   ]
  },
  {
   "cell_type": "code",
   "execution_count": 70,
   "metadata": {
    "ExecuteTime": {
     "end_time": "2020-01-21T21:14:10.472712Z",
     "start_time": "2020-01-21T21:14:09.747563Z"
    }
   },
   "outputs": [
    {
     "data": {
      "image/png": "[encoded data removed]",
      "text/plain": [
       "<Figure size 1080x360 with 2 Axes>"
      ]
     },
     "metadata": {
      "needs_background": "light"
     },
     "output_type": "display_data"
    }
   ],
   "source": [
    "colors = ['c','r']\n",
    "label_text = [\"safe\" ,\"dangerous\"]\n",
    "\n",
    "fig, axes = plt.subplots(nrows=1, ncols=2, figsize=(15,5))\n",
    "\n",
    "for cur_colour in [0, 1]:\n",
    "    cur_df = train[train['y'] == cur_colour]\n",
    "    axes[0].scatter(cur_df['catr'], cur_df['catu'], c = colors[cur_colour], label=label_text[cur_colour])\n",
    "    \n",
    "for cur_colour in [0, 1]:\n",
    "    cur_df = train[train['y'] == cur_colour]\n",
    "    axes[1].scatter(cur_df['surf'], cur_df['catu'], c = colors[cur_colour], label=label_text[cur_colour])\n",
    "\n",
    "fig.suptitle(\"SCATTER PLOTS\")\n",
    "axes[0].set(xlabel=\" Category of road\", ylabel=\"User category\")\n",
    "axes[1].set(xlabel=\"surface condition\", ylabel=\"User category\")\n",
    "axes[1].legend(loc=1);\n",
    "axes[0].legend(loc=1);"
   ]
  },
  {
   "cell_type": "code",
   "execution_count": 71,
   "metadata": {
    "ExecuteTime": {
     "end_time": "2020-01-21T21:14:10.675175Z",
     "start_time": "2020-01-21T21:14:10.647251Z"
    }
   },
   "outputs": [
    {
     "name": "stdout",
     "output_type": "stream",
     "text": [
      "\n",
      "---------------------------------------------------------------------------------\n",
      "\n",
      "Parameters with sklearn fit:\n",
      "[[-0.1913852   0.03296234 -0.49035282 -0.25696397 -0.38095979]]\n",
      "const with sklearn fit:\n",
      "[-0.8543767]\n",
      "\n",
      "---------------------------------------------------------------------------------\n",
      "\n"
     ]
    }
   ],
   "source": [
    "from sklearn.linear_model import LogisticRegression\n",
    "print(\"\\n---------------------------------------------------------------------------------\\n\")\n",
    "fitted_lr = LogisticRegression(C=1e7 ,solver='newton-cg', multi_class= 'ovr', max_iter = 1000000)\n",
    "fitted_lr= fitted_lr.fit(x_train, y_train)\n",
    "print(\"Parameters with sklearn fit:\\n{}\".format(fitted_lr.coef_))\n",
    "print(\"const with sklearn fit:\\n{}\".format(fitted_lr.intercept_))\n",
    "print(\"\\n---------------------------------------------------------------------------------\\n\")"
   ]
  },
  {
   "cell_type": "code",
   "execution_count": 72,
   "metadata": {
    "ExecuteTime": {
     "end_time": "2020-01-21T21:14:10.891598Z",
     "start_time": "2020-01-21T21:14:10.880647Z"
    }
   },
   "outputs": [
    {
     "data": {
      "text/plain": [
       "0.9630872483221476"
      ]
     },
     "execution_count": 72,
     "metadata": {},
     "output_type": "execute_result"
    }
   ],
   "source": [
    "fitted_lr.score(x_train, y_train)"
   ]
  },
  {
   "cell_type": "code",
   "execution_count": 73,
   "metadata": {
    "ExecuteTime": {
     "end_time": "2020-01-21T21:14:11.058591Z",
     "start_time": "2020-01-21T21:14:11.048620Z"
    }
   },
   "outputs": [
    {
     "data": {
      "text/plain": [
       "0.9530201342281879"
      ]
     },
     "execution_count": 73,
     "metadata": {},
     "output_type": "execute_result"
    }
   ],
   "source": [
    "fitted_lr.score(x_test, y_test)"
   ]
  },
  {
   "cell_type": "code",
   "execution_count": 74,
   "metadata": {
    "ExecuteTime": {
     "end_time": "2020-01-21T21:14:11.223664Z",
     "start_time": "2020-01-21T21:14:11.213178Z"
    }
   },
   "outputs": [
    {
     "data": {
      "text/plain": [
       "array([[284,   0],\n",
       "       [ 14,   0]], dtype=int64)"
      ]
     },
     "execution_count": 74,
     "metadata": {},
     "output_type": "execute_result"
    }
   ],
   "source": [
    "from sklearn.metrics import confusion_matrix\n",
    "\n",
    "y_pred = fitted_lr.predict(x_test)\n",
    "confusion_matrix(y_test, y_pred)"
   ]
  }
 ],
 "metadata": {
  "kernelspec": {
   "display_name": "Python 3",
   "language": "python",
   "name": "python3"
  },
  "language_info": {
   "codemirror_mode": {
    "name": "ipython",
    "version": 3
   },
   "file_extension": ".py",
   "mimetype": "text/x-python",
   "name": "python",
   "nbconvert_exporter": "python",
   "pygments_lexer": "ipython3",
   "version": "3.7.4"
  },
  "latex_envs": {
   "LaTeX_envs_menu_present": true,
   "autoclose": false,
   "autocomplete": true,
   "bibliofile": "biblio.bib",
   "cite_by": "apalike",
   "current_citInitial": 1,
   "eqLabelWithNumbers": true,
   "eqNumInitial": 1,
   "hotkeys": {
    "equation": "Ctrl-E",
    "itemize": "Ctrl-I"
   },
   "labels_anchors": false,
   "latex_user_defs": false,
   "report_style_numbering": false,
   "user_envs_cfg": false
  },
  "toc": {
   "base_numbering": 1,
   "nav_menu": {},
   "number_sections": true,
   "sideBar": true,
   "skip_h1_title": false,
   "title_cell": "Table of Contents",
   "title_sidebar": "Contents",
   "toc_cell": false,
   "toc_position": {},
   "toc_section_display": true,
   "toc_window_display": false
  },
  "varInspector": {
   "cols": {
    "lenName": 16,
    "lenType": 16,
    "lenVar": 40
   },
   "kernels_config": {
    "python": {
     "delete_cmd_postfix": "",
     "delete_cmd_prefix": "del ",
     "library": "var_list.py",
     "varRefreshCmd": "print(var_dic_list())"
    },
    "r": {
     "delete_cmd_postfix": ") ",
     "delete_cmd_prefix": "rm(",
     "library": "var_list.r",
     "varRefreshCmd": "cat(var_dic_list()) "
    }
   },
   "types_to_exclude": [
    "module",
    "function",
    "builtin_function_or_method",
    "instance",
    "_Feature"
   ],
   "window_display": false
  }
 },
 "nbformat": 4,
 "nbformat_minor": 2
}
